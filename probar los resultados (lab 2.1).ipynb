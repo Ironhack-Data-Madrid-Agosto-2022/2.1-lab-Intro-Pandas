{
 "cells": [
  {
   "cell_type": "code",
   "execution_count": 22,
   "id": "858d628e",
   "metadata": {},
   "outputs": [
    {
     "name": "stdout",
     "output_type": "stream",
     "text": [
      "Requirement already satisfied: numpy in c:\\users\\joser\\onedrive\\documentos\\anaconda\\anaconda\\lib\\site-packages (1.21.5)\n",
      "Note: you may need to restart the kernel to use updated packages.\n"
     ]
    }
   ],
   "source": [
    "%pip install numpy"
   ]
  },
  {
   "cell_type": "code",
   "execution_count": 23,
   "id": "9eed85ce",
   "metadata": {},
   "outputs": [],
   "source": [
    "import numpy as np"
   ]
  },
  {
   "cell_type": "code",
   "execution_count": 24,
   "id": "d765769b",
   "metadata": {},
   "outputs": [
    {
     "name": "stdout",
     "output_type": "stream",
     "text": [
      "1.21.5\n"
     ]
    }
   ],
   "source": [
    "print(np.__version__)"
   ]
  },
  {
   "cell_type": "code",
   "execution_count": 25,
   "id": "f19c2548",
   "metadata": {},
   "outputs": [
    {
     "name": "stdout",
     "output_type": "stream",
     "text": [
      "blas_mkl_info:\n",
      "    libraries = ['mkl_rt']\n",
      "    library_dirs = ['C:/Users/joser/OneDrive/Documentos/Anaconda/Anaconda\\\\Library\\\\lib']\n",
      "    define_macros = [('SCIPY_MKL_H', None), ('HAVE_CBLAS', None)]\n",
      "    include_dirs = ['C:/Users/joser/OneDrive/Documentos/Anaconda/Anaconda\\\\Library\\\\include']\n",
      "blas_opt_info:\n",
      "    libraries = ['mkl_rt']\n",
      "    library_dirs = ['C:/Users/joser/OneDrive/Documentos/Anaconda/Anaconda\\\\Library\\\\lib']\n",
      "    define_macros = [('SCIPY_MKL_H', None), ('HAVE_CBLAS', None)]\n",
      "    include_dirs = ['C:/Users/joser/OneDrive/Documentos/Anaconda/Anaconda\\\\Library\\\\include']\n",
      "lapack_mkl_info:\n",
      "    libraries = ['mkl_rt']\n",
      "    library_dirs = ['C:/Users/joser/OneDrive/Documentos/Anaconda/Anaconda\\\\Library\\\\lib']\n",
      "    define_macros = [('SCIPY_MKL_H', None), ('HAVE_CBLAS', None)]\n",
      "    include_dirs = ['C:/Users/joser/OneDrive/Documentos/Anaconda/Anaconda\\\\Library\\\\include']\n",
      "lapack_opt_info:\n",
      "    libraries = ['mkl_rt']\n",
      "    library_dirs = ['C:/Users/joser/OneDrive/Documentos/Anaconda/Anaconda\\\\Library\\\\lib']\n",
      "    define_macros = [('SCIPY_MKL_H', None), ('HAVE_CBLAS', None)]\n",
      "    include_dirs = ['C:/Users/joser/OneDrive/Documentos/Anaconda/Anaconda\\\\Library\\\\include']\n",
      "Supported SIMD extensions in this NumPy install:\n",
      "    baseline = SSE,SSE2,SSE3\n",
      "    found = SSSE3,SSE41,POPCNT,SSE42,AVX,F16C,FMA3,AVX2,AVX512F,AVX512CD,AVX512_SKX,AVX512_CLX,AVX512_CNL\n",
      "    not found = \n"
     ]
    }
   ],
   "source": [
    "np.show_config()"
   ]
  },
  {
   "cell_type": "code",
   "execution_count": 30,
   "id": "04963f36",
   "metadata": {},
   "outputs": [
    {
     "data": {
      "text/plain": [
       "array([[[0.08100131, 0.41893413, 0.21934608, 0.37065825, 0.13643287],\n",
       "        [0.32163849, 0.81655331, 0.85539302, 0.63142734, 0.92607968],\n",
       "        [0.28591644, 0.13224009, 0.04791362, 0.00276322, 0.01559837]],\n",
       "\n",
       "       [[0.7198435 , 0.71015686, 0.83525938, 0.17414887, 0.35927023],\n",
       "        [0.66487907, 0.67735284, 0.65538244, 0.38556711, 0.72945496],\n",
       "        [0.63848389, 0.28824204, 0.95185968, 0.86699903, 0.86211394]]])"
      ]
     },
     "execution_count": 30,
     "metadata": {},
     "output_type": "execute_result"
    }
   ],
   "source": [
    "a = np.random.random((2, 3,5))\n",
    "a"
   ]
  },
  {
   "cell_type": "code",
   "execution_count": 31,
   "id": "8bdba02c",
   "metadata": {},
   "outputs": [
    {
     "name": "stdout",
     "output_type": "stream",
     "text": [
      "[[[0.08100131 0.41893413 0.21934608 0.37065825 0.13643287]\n",
      "  [0.32163849 0.81655331 0.85539302 0.63142734 0.92607968]\n",
      "  [0.28591644 0.13224009 0.04791362 0.00276322 0.01559837]]\n",
      "\n",
      " [[0.7198435  0.71015686 0.83525938 0.17414887 0.35927023]\n",
      "  [0.66487907 0.67735284 0.65538244 0.38556711 0.72945496]\n",
      "  [0.63848389 0.28824204 0.95185968 0.86699903 0.86211394]]]\n"
     ]
    }
   ],
   "source": [
    "print(a)"
   ]
  },
  {
   "cell_type": "code",
   "execution_count": 33,
   "id": "583b7c45",
   "metadata": {},
   "outputs": [
    {
     "name": "stdout",
     "output_type": "stream",
     "text": [
      "[[[1. 1. 1.]\n",
      "  [1. 1. 1.]]\n",
      "\n",
      " [[1. 1. 1.]\n",
      "  [1. 1. 1.]]\n",
      "\n",
      " [[1. 1. 1.]\n",
      "  [1. 1. 1.]]\n",
      "\n",
      " [[1. 1. 1.]\n",
      "  [1. 1. 1.]]\n",
      "\n",
      " [[1. 1. 1.]\n",
      "  [1. 1. 1.]]]\n"
     ]
    }
   ],
   "source": [
    "b = np.ones((5,2,3))\n",
    "print (b)"
   ]
  },
  {
   "cell_type": "code",
   "execution_count": 34,
   "id": "825a0abf",
   "metadata": {},
   "outputs": [
    {
     "data": {
      "text/plain": [
       "30"
      ]
     },
     "execution_count": 34,
     "metadata": {},
     "output_type": "execute_result"
    }
   ],
   "source": [
    "a.size"
   ]
  },
  {
   "cell_type": "code",
   "execution_count": 35,
   "id": "64058f2a",
   "metadata": {},
   "outputs": [
    {
     "data": {
      "text/plain": [
       "30"
      ]
     },
     "execution_count": 35,
     "metadata": {},
     "output_type": "execute_result"
    }
   ],
   "source": [
    "b.size"
   ]
  },
  {
   "cell_type": "code",
   "execution_count": 40,
   "id": "ae2f36ee",
   "metadata": {},
   "outputs": [
    {
     "name": "stdout",
     "output_type": "stream",
     "text": [
      "[[[1. 1. 1. 1. 1.]\n",
      "  [1. 1. 1. 1. 1.]\n",
      "  [1. 1. 1. 1. 1.]]\n",
      "\n",
      " [[1. 1. 1. 1. 1.]\n",
      "  [1. 1. 1. 1. 1.]\n",
      "  [1. 1. 1. 1. 1.]]]\n"
     ]
    }
   ],
   "source": [
    "c= np.reshape(b,[2, 3, 5])\n",
    "print(c)"
   ]
  },
  {
   "cell_type": "code",
   "execution_count": 45,
   "id": "7eb3d760",
   "metadata": {},
   "outputs": [
    {
     "name": "stdout",
     "output_type": "stream",
     "text": [
      "[[[1.08100131 1.41893413 1.21934608 1.37065825 1.13643287]\n",
      "  [1.32163849 1.81655331 1.85539302 1.63142734 1.92607968]\n",
      "  [1.28591644 1.13224009 1.04791362 1.00276322 1.01559837]]\n",
      "\n",
      " [[1.7198435  1.71015686 1.83525938 1.17414887 1.35927023]\n",
      "  [1.66487907 1.67735284 1.65538244 1.38556711 1.72945496]\n",
      "  [1.63848389 1.28824204 1.95185968 1.86699903 1.86211394]]]\n"
     ]
    }
   ],
   "source": [
    "d=np.add(a, c)\n",
    "print(d)"
   ]
  },
  {
   "cell_type": "code",
   "execution_count": 46,
   "id": "d4678ce0",
   "metadata": {},
   "outputs": [
    {
     "name": "stdout",
     "output_type": "stream",
     "text": [
      "[[[1.08100131 1.41893413 1.21934608 1.37065825 1.13643287]\n",
      "  [1.32163849 1.81655331 1.85539302 1.63142734 1.92607968]\n",
      "  [1.28591644 1.13224009 1.04791362 1.00276322 1.01559837]]\n",
      "\n",
      " [[1.7198435  1.71015686 1.83525938 1.17414887 1.35927023]\n",
      "  [1.66487907 1.67735284 1.65538244 1.38556711 1.72945496]\n",
      "  [1.63848389 1.28824204 1.95185968 1.86699903 1.86211394]]]\n"
     ]
    }
   ],
   "source": [
    "print(d)"
   ]
  },
  {
   "cell_type": "code",
   "execution_count": 47,
   "id": "405fdfcb",
   "metadata": {},
   "outputs": [
    {
     "name": "stdout",
     "output_type": "stream",
     "text": [
      "[[[0.08100131 0.41893413 0.21934608 0.37065825 0.13643287]\n",
      "  [0.32163849 0.81655331 0.85539302 0.63142734 0.92607968]\n",
      "  [0.28591644 0.13224009 0.04791362 0.00276322 0.01559837]]\n",
      "\n",
      " [[0.7198435  0.71015686 0.83525938 0.17414887 0.35927023]\n",
      "  [0.66487907 0.67735284 0.65538244 0.38556711 0.72945496]\n",
      "  [0.63848389 0.28824204 0.95185968 0.86699903 0.86211394]]]\n"
     ]
    }
   ],
   "source": [
    "print(a)"
   ]
  },
  {
   "cell_type": "code",
   "execution_count": 49,
   "id": "eb854eec",
   "metadata": {},
   "outputs": [
    {
     "name": "stdout",
     "output_type": "stream",
     "text": [
      "[[[0.08100131 0.41893413 0.21934608 0.37065825 0.13643287]\n",
      "  [0.32163849 0.81655331 0.85539302 0.63142734 0.92607968]\n",
      "  [0.28591644 0.13224009 0.04791362 0.00276322 0.01559837]]\n",
      "\n",
      " [[0.7198435  0.71015686 0.83525938 0.17414887 0.35927023]\n",
      "  [0.66487907 0.67735284 0.65538244 0.38556711 0.72945496]\n",
      "  [0.63848389 0.28824204 0.95185968 0.86699903 0.86211394]]]\n"
     ]
    }
   ],
   "source": [
    "e = np.multiply(a, c)\n",
    "print(e)"
   ]
  },
  {
   "cell_type": "code",
   "execution_count": 71,
   "id": "62f0c32c",
   "metadata": {},
   "outputs": [
    {
     "name": "stdout",
     "output_type": "stream",
     "text": [
      "1.9518596824277754\n"
     ]
    }
   ],
   "source": [
    "d_max=d.max()\n",
    "print(d_max)\n",
    "\n"
   ]
  },
  {
   "cell_type": "code",
   "execution_count": 70,
   "id": "16712db8",
   "metadata": {},
   "outputs": [
    {
     "name": "stdout",
     "output_type": "stream",
     "text": [
      "1.0027632162636761\n"
     ]
    }
   ],
   "source": [
    "d_min=d.min()\n",
    "print(d_min)\n",
    "\n"
   ]
  },
  {
   "cell_type": "code",
   "execution_count": 69,
   "id": "48647d58",
   "metadata": {},
   "outputs": [
    {
     "name": "stdout",
     "output_type": "stream",
     "text": [
      "1.4926970012278198\n"
     ]
    }
   ],
   "source": [
    "d_mean=d.mean()\n",
    "print(d_mean)"
   ]
  },
  {
   "cell_type": "code",
   "execution_count": 83,
   "id": "80aada1c",
   "metadata": {},
   "outputs": [
    {
     "name": "stdout",
     "output_type": "stream",
     "text": [
      "[[[  116960253  1072778184  1170857878  1073132532   163227696]\n",
      "  [ 1072923249  1460549847  1073081911   997260156  1072836308]\n",
      "  [ 1727758242  1073030510   887239862  1073549466 -1741482426]]\n",
      "\n",
      " [[ 1073590192 -1915314071  1073355347  -318204096  1073664312]\n",
      "  [  481484102  1072993053  -941260840  1072831911   306461766]\n",
      "  [ 1072743489  1899478924  1072696145   329814240  1072709604]]]\n"
     ]
    }
   ],
   "source": [
    "f = np.empty((2, 3, 5), int)\n",
    "print (f)"
   ]
  },
  {
   "cell_type": "code",
   "execution_count": 84,
   "id": "084ef5f8",
   "metadata": {},
   "outputs": [
    {
     "name": "stdout",
     "output_type": "stream",
     "text": [
      "[[[1.08100131 1.41893413 1.21934608 1.37065825 1.13643287]\n",
      "  [1.32163849 1.81655331 1.85539302 1.63142734 1.92607968]\n",
      "  [1.28591644 1.13224009 1.04791362 1.00276322 1.01559837]]\n",
      "\n",
      " [[1.7198435  1.71015686 1.83525938 1.17414887 1.35927023]\n",
      "  [1.66487907 1.67735284 1.65538244 1.38556711 1.72945496]\n",
      "  [1.63848389 1.28824204 1.95185968 1.86699903 1.86211394]]]\n"
     ]
    }
   ],
   "source": [
    "print(d)"
   ]
  },
  {
   "cell_type": "code",
   "execution_count": 104,
   "id": "08f6b46d",
   "metadata": {},
   "outputs": [
    {
     "name": "stdout",
     "output_type": "stream",
     "text": [
      "[[[ 25  25 100 100 100]\n",
      "  [ 25  75 100 100 100]\n",
      "  [ 25  25 100   0 100]]\n",
      "\n",
      " [[ 75  75 100 100 100]\n",
      "  [ 75  75 100 100 100]\n",
      "  [ 75  25 100 100 100]]]\n"
     ]
    }
   ],
   "source": [
    "for i in range(2):\n",
    "    for j in range(3):\n",
    "        for x in range(5):\n",
    "           \n",
    "            if d[i][j][x] > d_min and x < d_mean:\n",
    "                f[i][j][x]=25\n",
    "            if d[i][j][x] > d_mean and x < d_max:\n",
    "                f[i][j][x]=75\n",
    "            if d[i][j][x]==d_mean:\n",
    "                f[i][j][x]=50\n",
    "            if d[i][j][x] == d.min():\n",
    "                f[i][j][x]=0\n",
    "            if d[i][j][x] == d.max():\n",
    "                f[i][j][x]=100\n",
    "                \n",
    "            \n",
    "print(f)\n",
    "    \n",
    "            \n"
   ]
  },
  {
   "cell_type": "code",
   "execution_count": 80,
   "id": "09d493f7",
   "metadata": {},
   "outputs": [],
   "source": [
    "lst=[0, 1, 2]"
   ]
  },
  {
   "cell_type": "code",
   "execution_count": 81,
   "id": "c8c6292e",
   "metadata": {},
   "outputs": [
    {
     "ename": "AttributeError",
     "evalue": "'list' object has no attribute 'replace'",
     "output_type": "error",
     "traceback": [
      "\u001b[1;31m---------------------------------------------------------------------------\u001b[0m",
      "\u001b[1;31mAttributeError\u001b[0m                            Traceback (most recent call last)",
      "Input \u001b[1;32mIn [81]\u001b[0m, in \u001b[0;36m<cell line: 1>\u001b[1;34m()\u001b[0m\n\u001b[1;32m----> 1\u001b[0m \u001b[43mlst\u001b[49m\u001b[38;5;241;43m.\u001b[39;49m\u001b[43mreplace\u001b[49m[\u001b[38;5;241m1\u001b[39m, \u001b[38;5;241m3\u001b[39m, \u001b[38;5;241m4\u001b[39m]\n",
      "\u001b[1;31mAttributeError\u001b[0m: 'list' object has no attribute 'replace'"
     ]
    }
   ],
   "source": [
    "lst.replace[1, 3, 4]"
   ]
  },
  {
   "cell_type": "code",
   "execution_count": null,
   "id": "1740e96d",
   "metadata": {},
   "outputs": [],
   "source": []
  }
 ],
 "metadata": {
  "kernelspec": {
   "display_name": "Python 3 (ipykernel)",
   "language": "python",
   "name": "python3"
  },
  "language_info": {
   "codemirror_mode": {
    "name": "ipython",
    "version": 3
   },
   "file_extension": ".py",
   "mimetype": "text/x-python",
   "name": "python",
   "nbconvert_exporter": "python",
   "pygments_lexer": "ipython3",
   "version": "3.9.12"
  }
 },
 "nbformat": 4,
 "nbformat_minor": 5
}
